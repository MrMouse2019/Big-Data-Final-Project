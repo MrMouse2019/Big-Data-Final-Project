{
 "cells": [
  {
   "cell_type": "code",
   "execution_count": 1,
   "metadata": {},
   "outputs": [],
   "source": [
    "import pandas as pd\n",
    "import json\n",
    "from mlxtend.preprocessing import TransactionEncoder\n",
    "from mlxtend.frequent_patterns import apriori"
   ]
  },
  {
   "cell_type": "code",
   "execution_count": 7,
   "metadata": {},
   "outputs": [
    {
     "data": {
      "text/html": [
       "<div>\n",
       "<style scoped>\n",
       "    .dataframe tbody tr th:only-of-type {\n",
       "        vertical-align: middle;\n",
       "    }\n",
       "\n",
       "    .dataframe tbody tr th {\n",
       "        vertical-align: top;\n",
       "    }\n",
       "\n",
       "    .dataframe thead th {\n",
       "        text-align: right;\n",
       "    }\n",
       "</style>\n",
       "<table border=\"1\" class=\"dataframe\">\n",
       "  <thead>\n",
       "    <tr style=\"text-align: right;\">\n",
       "      <th></th>\n",
       "      <th>support</th>\n",
       "      <th>itemsets</th>\n",
       "    </tr>\n",
       "  </thead>\n",
       "  <tbody>\n",
       "    <tr>\n",
       "      <td>0</td>\n",
       "      <td>0.521658</td>\n",
       "      <td>(INTEGER)</td>\n",
       "    </tr>\n",
       "    <tr>\n",
       "      <td>1</td>\n",
       "      <td>0.506755</td>\n",
       "      <td>(TEXT)</td>\n",
       "    </tr>\n",
       "    <tr>\n",
       "      <td>2</td>\n",
       "      <td>0.163723</td>\n",
       "      <td>(REAL)</td>\n",
       "    </tr>\n",
       "    <tr>\n",
       "      <td>3</td>\n",
       "      <td>0.140598</td>\n",
       "      <td>(INTEGER, TEXT)</td>\n",
       "    </tr>\n",
       "    <tr>\n",
       "      <td>4</td>\n",
       "      <td>0.093892</td>\n",
       "      <td>(INTEGER, REAL)</td>\n",
       "    </tr>\n",
       "    <tr>\n",
       "      <td>5</td>\n",
       "      <td>0.037091</td>\n",
       "      <td>(REAL, TEXT)</td>\n",
       "    </tr>\n",
       "    <tr>\n",
       "      <td>6</td>\n",
       "      <td>0.033043</td>\n",
       "      <td>(DATE/TIME)</td>\n",
       "    </tr>\n",
       "    <tr>\n",
       "      <td>7</td>\n",
       "      <td>0.019507</td>\n",
       "      <td>(INTEGER, REAL, TEXT)</td>\n",
       "    </tr>\n",
       "  </tbody>\n",
       "</table>\n",
       "</div>"
      ],
      "text/plain": [
       "    support               itemsets\n",
       "0  0.521658              (INTEGER)\n",
       "1  0.506755                 (TEXT)\n",
       "2  0.163723                 (REAL)\n",
       "3  0.140598        (INTEGER, TEXT)\n",
       "4  0.093892        (INTEGER, REAL)\n",
       "5  0.037091           (REAL, TEXT)\n",
       "6  0.033043            (DATE/TIME)\n",
       "7  0.019507  (INTEGER, REAL, TEXT)"
      ]
     },
     "execution_count": 7,
     "metadata": {},
     "output_type": "execute_result"
    }
   ],
   "source": [
    "with open('task1.json') as json_file:\n",
    "    data = json.load(json_file)\n",
    "\n",
    "A = []\n",
    "for dataset in data:\n",
    "    for column in dataset['columns']:\n",
    "        temp = []\n",
    "        for data_type in column['data_types']:\n",
    "            temp.append(data_type['type'])\n",
    "        A.append(temp)\n",
    "\n",
    "te = TransactionEncoder()\n",
    "te_ary = te.fit(A).transform(A)\n",
    "df = pd.DataFrame(te_ary, columns=te.columns_)\n",
    "frequent_itemsets = apriori(df, min_support=0.01, use_colnames=True).sort_values(by=['support'], ascending=False)\n",
    "frequent_itemsets = frequent_itemsets.reset_index(drop=True)\n",
    "frequent_itemsets"
   ]
  },
  {
   "cell_type": "code",
   "execution_count": 8,
   "metadata": {},
   "outputs": [],
   "source": [
    "import collections\n",
    "import matplotlib.pyplot as plt"
   ]
  },
  {
   "cell_type": "code",
   "execution_count": 9,
   "metadata": {},
   "outputs": [
    {
     "name": "stdout",
     "output_type": "stream",
     "text": [
      "Counter({'INTEGER': 20618, 'TEXT': 20029, 'REAL': 6471, 'DATE/TIME': 1306})\n"
     ]
    }
   ],
   "source": [
    "type_cnt = collections.Counter()\n",
    "with open('task1.json') as json_file:\n",
    "    data = json.load(json_file)\n",
    "    for dataset in data:\n",
    "        for column in dataset['columns']:\n",
    "            for datatype in column['data_types']:\n",
    "                type = datatype['type']\n",
    "                type_cnt[type] += 1\n",
    "\n",
    "print(type_cnt)"
   ]
  },
  {
   "cell_type": "code",
   "execution_count": 10,
   "metadata": {},
   "outputs": [
    {
     "data": {
      "image/png": "[encoded data removed]",
      "text/plain": [
       "<Figure size 432x288 with 1 Axes>"
      ]
     },
     "metadata": {
      "needs_background": "light"
     },
     "output_type": "display_data"
    }
   ],
   "source": [
    "xs = ['INTEGER', 'REAL', 'DATE/TIME', 'TEXT']\n",
    "ys = [20618, 6471, 1306, 20029]\n",
    "plt.bar(xs, ys, width=0.4)\n",
    "plt.title('Task1 Data Type Count')\n",
    "plt.xlabel('Data Types', fontsize=11)\n",
    "plt.ylabel('Count', fontsize=11)\n",
    "for x, y in zip(xs, ys):\n",
    "    plt.annotate(y,\n",
    "                 (x, y),\n",
    "                 textcoords='offset points',\n",
    "                 xytext=(0,4),\n",
    "                 ha='center')\n",
    "plt.show()"
   ]
  },
  {
   "cell_type": "code",
   "execution_count": null,
   "metadata": {},
   "outputs": [],
   "source": []
  }
 ],
 "metadata": {
  "kernelspec": {
   "display_name": "Python 3",
   "language": "python",
   "name": "python3"
  },
  "language_info": {
   "codemirror_mode": {
    "name": "ipython",
    "version": 3
   },
   "file_extension": ".py",
   "mimetype": "text/x-python",
   "name": "python",
   "nbconvert_exporter": "python",
   "pygments_lexer": "ipython3",
   "version": "3.7.4"
  }
 },
 "nbformat": 4,
 "nbformat_minor": 2
}
